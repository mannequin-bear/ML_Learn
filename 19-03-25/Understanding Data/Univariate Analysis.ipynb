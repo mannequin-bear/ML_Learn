{
 "cells": [
  {
   "cell_type": "code",
   "execution_count": null,
   "id": "07935d02-e720-4425-9f15-ef03fc372c4d",
   "metadata": {},
   "outputs": [],
   "source": []
  }
 ],
 "metadata": {
  "kernelspec": {
   "display_name": "Python [conda env:base] *",
   "language": "python",
   "name": "conda-base-py"
  },
  "language_info": {
   "name": ""
  }
 },
 "nbformat": 4,
 "nbformat_minor": 5
}
