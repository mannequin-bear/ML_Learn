{
 "cells": [
  {
   "cell_type": "code",
   "execution_count": 455,
   "id": "b62847c3-a9e4-431b-a018-93e266ea04f5",
   "metadata": {},
   "outputs": [],
   "source": [
    "import numpy as np\n",
    "import pandas as pd\n",
    "import seaborn as sns\n",
    "import matplotlib.pyplot as plt\n",
    "import scipy.stats as stats\n",
    "from sklearn.preprocessing import FunctionTransformer\n",
    "from sklearn.model_selection import train_test_split\n",
    "from sklearn.compose import ColumnTransformer\n",
    "from sklearn.metrics import accuracy_score\n",
    "from sklearn.linear_model import LogisticRegression\n",
    "from sklearn.tree import DecisionTreeClassifier\n",
    "from sklearn.preprocessing import OrdinalEncoder\n",
    "from sklearn.preprocessing import StandardScaler\n",
    "from sklearn.preprocessing import RobustScaler\n",
    "from sklearn.tree import DecisionTreeClassifier\n",
    "from sklearn.preprocessing import KBinsDiscretizer\n",
    "from sklearn.model_selection import cross_val_score"
   ]
  },
  {
   "cell_type": "code",
   "execution_count": 439,
   "id": "d781022c-1a68-44bf-819d-7f5263eca7f4",
   "metadata": {},
   "outputs": [],
   "source": [
    "df = pd.read_csv('train.csv', usecols=['Age','Fare','Survived'])"
   ]
  },
  {
   "cell_type": "code",
   "execution_count": 441,
   "id": "c4af6608-ce00-4ccc-89a4-d66b8538a8aa",
   "metadata": {},
   "outputs": [],
   "source": [
    "df.dropna(inplace=True)"
   ]
  },
  {
   "cell_type": "code",
   "execution_count": 443,
   "id": "732dbfb7-7a5c-40a8-9d18-0242e35d72d1",
   "metadata": {},
   "outputs": [
    {
     "data": {
      "text/plain": [
       "(714, 3)"
      ]
     },
     "execution_count": 443,
     "metadata": {},
     "output_type": "execute_result"
    }
   ],
   "source": [
    "df.shape"
   ]
  },
  {
   "cell_type": "code",
   "execution_count": 447,
   "id": "1f7ad869-2088-4856-8bc6-5443c18c47ad",
   "metadata": {},
   "outputs": [
    {
     "data": {
      "text/html": [
       "<div>\n",
       "<style scoped>\n",
       "    .dataframe tbody tr th:only-of-type {\n",
       "        vertical-align: middle;\n",
       "    }\n",
       "\n",
       "    .dataframe tbody tr th {\n",
       "        vertical-align: top;\n",
       "    }\n",
       "\n",
       "    .dataframe thead th {\n",
       "        text-align: right;\n",
       "    }\n",
       "</style>\n",
       "<table border=\"1\" class=\"dataframe\">\n",
       "  <thead>\n",
       "    <tr style=\"text-align: right;\">\n",
       "      <th></th>\n",
       "      <th>Survived</th>\n",
       "      <th>Age</th>\n",
       "      <th>Fare</th>\n",
       "    </tr>\n",
       "  </thead>\n",
       "  <tbody>\n",
       "    <tr>\n",
       "      <th>0</th>\n",
       "      <td>0</td>\n",
       "      <td>22.0</td>\n",
       "      <td>7.2500</td>\n",
       "    </tr>\n",
       "    <tr>\n",
       "      <th>1</th>\n",
       "      <td>1</td>\n",
       "      <td>38.0</td>\n",
       "      <td>71.2833</td>\n",
       "    </tr>\n",
       "    <tr>\n",
       "      <th>2</th>\n",
       "      <td>1</td>\n",
       "      <td>26.0</td>\n",
       "      <td>7.9250</td>\n",
       "    </tr>\n",
       "    <tr>\n",
       "      <th>3</th>\n",
       "      <td>1</td>\n",
       "      <td>35.0</td>\n",
       "      <td>53.1000</td>\n",
       "    </tr>\n",
       "    <tr>\n",
       "      <th>4</th>\n",
       "      <td>0</td>\n",
       "      <td>35.0</td>\n",
       "      <td>8.0500</td>\n",
       "    </tr>\n",
       "  </tbody>\n",
       "</table>\n",
       "</div>"
      ],
      "text/plain": [
       "   Survived   Age     Fare\n",
       "0         0  22.0   7.2500\n",
       "1         1  38.0  71.2833\n",
       "2         1  26.0   7.9250\n",
       "3         1  35.0  53.1000\n",
       "4         0  35.0   8.0500"
      ]
     },
     "execution_count": 447,
     "metadata": {},
     "output_type": "execute_result"
    }
   ],
   "source": [
    "df.head()"
   ]
  },
  {
   "cell_type": "code",
   "execution_count": 449,
   "id": "de814028-87d9-44e7-b7fa-b69c38d03463",
   "metadata": {},
   "outputs": [],
   "source": [
    "X = df.drop(columns=['Survived'])\n",
    "y = df['Survived']"
   ]
  },
  {
   "cell_type": "code",
   "execution_count": 467,
   "id": "eb94b7ac-756d-4500-aa6b-219e15309969",
   "metadata": {},
   "outputs": [],
   "source": [
    "X_train, X_test, y_train, y_test = train_test_split(X, y, test_size=0.2, random_state=96)"
   ]
  },
  {
   "cell_type": "code",
   "execution_count": 469,
   "id": "9f4d7c03-97a0-4c33-be52-adb04a2f57e8",
   "metadata": {},
   "outputs": [
    {
     "name": "stdout",
     "output_type": "stream",
     "text": [
      "Accuracy 0.6573426573426573\n"
     ]
    },
    {
     "data": {
      "text/plain": [
       "np.float64(0.6316510172143974)"
      ]
     },
     "execution_count": 469,
     "metadata": {},
     "output_type": "execute_result"
    }
   ],
   "source": [
    "clf = DecisionTreeClassifier()\n",
    "clf.fit(X_train, y_train)\n",
    "y_pred = clf.predict(X_test)\n",
    "print('Accuracy', accuracy_score(y_test, y_pred))\n",
    "np.mean(cross_val_score(DecisionTreeClassifier(), X, y, cv=10, scoring='accuracy'))"
   ]
  },
  {
   "cell_type": "code",
   "execution_count": 535,
   "id": "efe6a693-2411-4783-9650-45f25ab5fa4d",
   "metadata": {},
   "outputs": [],
   "source": [
    "kbinage = KBinsDiscretizer(n_bins=10, strategy='kmeans', encode='ordinal')\n",
    "kbinfare = KBinsDiscretizer(n_bins=10, strategy='kmeans', encode='ordinal')"
   ]
  },
  {
   "cell_type": "code",
   "execution_count": 547,
   "id": "bf58098a-f037-441e-a324-a7d96f3a01bf",
   "metadata": {},
   "outputs": [],
   "source": [
    "trf = ColumnTransformer([\n",
    "  ('first', kbinage, [0]),\n",
    "    ('second', kbinfare, [1])\n",
    "], remainder='passthrough')\n",
    "\n",
    "trf1 = ColumnTransformer([\n",
    "  ('first', kbinage, [0]),\n",
    "    ('second', kbinfare, [1])\n",
    "], remainder='passthrough')"
   ]
  },
  {
   "cell_type": "code",
   "execution_count": 549,
   "id": "4b32b1b4-fe35-4d1a-b456-d8db5ac25fa3",
   "metadata": {},
   "outputs": [],
   "source": [
    "X_trf = trf1.fit_transform(X)\n",
    "X_train_trf = trf.fit_transform(X_train)\n",
    "X_test_trf = trf.transform(X_test)"
   ]
  },
  {
   "cell_type": "code",
   "execution_count": 551,
   "id": "5deae645-3598-4b22-b879-917dadc8d66e",
   "metadata": {},
   "outputs": [
    {
     "name": "stdout",
     "output_type": "stream",
     "text": [
      "Accuracy 0.6923076923076923\n"
     ]
    },
    {
     "data": {
      "text/plain": [
       "np.float64(0.6584702660406886)"
      ]
     },
     "execution_count": 551,
     "metadata": {},
     "output_type": "execute_result"
    }
   ],
   "source": [
    "clf = DecisionTreeClassifier()\n",
    "clf.fit(X_train_trf, y_train)\n",
    "y_pred = clf.predict(X_test_trf)\n",
    "print('Accuracy', accuracy_score(y_test, y_pred))\n",
    "np.mean(cross_val_score(DecisionTreeClassifier(), X_trf, y, cv=10, scoring='accuracy'))"
   ]
  },
  {
   "cell_type": "code",
   "execution_count": null,
   "id": "c890e927-3105-4512-8721-827cf0179637",
   "metadata": {},
   "outputs": [],
   "source": []
  }
 ],
 "metadata": {
  "kernelspec": {
   "display_name": "Python 3 (ipykernel)",
   "language": "python",
   "name": "python3"
  },
  "language_info": {
   "codemirror_mode": {
    "name": "ipython",
    "version": 3
   },
   "file_extension": ".py",
   "mimetype": "text/x-python",
   "name": "python",
   "nbconvert_exporter": "python",
   "pygments_lexer": "ipython3",
   "version": "3.12.7"
  }
 },
 "nbformat": 4,
 "nbformat_minor": 5
}
